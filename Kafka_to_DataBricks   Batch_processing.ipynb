{
 "cells": [
  {
   "cell_type": "code",
   "execution_count": 0,
   "metadata": {
    "application/vnd.databricks.v1+cell": {
     "cellMetadata": {
      "byteLimit": 2048000,
      "rowLimit": 10000
     },
     "inputWidgets": {},
     "nuid": "6019c5a3-3d15-4b01-b34b-bd0469732cf3",
     "showTitle": false,
     "title": ""
    }
   },
   "outputs": [],
   "source": [
    "import pyspark.sql.functions as F\n",
    "from  pyspark.sql.functions import col, struct, to_json\n",
    "from pyspark.sql.types import StructField, StructType, StringType, MapType"
   ]
  },
  {
   "cell_type": "code",
   "execution_count": 0,
   "metadata": {
    "application/vnd.databricks.v1+cell": {
     "cellMetadata": {
      "byteLimit": 2048000,
      "rowLimit": 10000
     },
     "inputWidgets": {},
     "nuid": "271e8bb0-c96d-402d-9a4c-41991f3ad53e",
     "showTitle": false,
     "title": ""
    }
   },
   "outputs": [
    {
     "output_type": "stream",
     "name": "stdout",
     "output_type": "stream",
     "text": [
      "root\n |-- name: string (nullable = true)\n |-- occupation: string (nullable = true)\n\n+----------+----------+\n|name      |occupation|\n+----------+----------+\n|James     |driver    |\n|Michael   |teacher   |\n|Robert    |engineer  |\n|Washington|architect |\n|Jefferson |CEO       |\n+----------+----------+\n\n"
     ]
    }
   ],
   "source": [
    "dataDictionary = [\n",
    "        ('James','driver'),\n",
    "        ('Michael','teacher'),\n",
    "        ('Robert','engineer'),\n",
    "        ('Washington','architect'),\n",
    "        ('Jefferson','CEO')\n",
    "        ]\n",
    "df = spark.createDataFrame(data=dataDictionary, schema = [\"name\",\"occupation\"])\n",
    "df.printSchema()\n",
    "df.show(truncate=False)"
   ]
  },
  {
   "cell_type": "code",
   "execution_count": 0,
   "metadata": {
    "application/vnd.databricks.v1+cell": {
     "cellMetadata": {
      "byteLimit": 2048000,
      "rowLimit": 10000
     },
     "inputWidgets": {},
     "nuid": "634fbdf0-3eec-4d7c-b74a-9a4995667300",
     "showTitle": false,
     "title": ""
    }
   },
   "outputs": [
    {
     "output_type": "display_data",
     "data": {
      "text/html": [
       "<style scoped>\n",
       "  .table-result-container {\n",
       "    max-height: 300px;\n",
       "    overflow: auto;\n",
       "  }\n",
       "  table, th, td {\n",
       "    border: 1px solid black;\n",
       "    border-collapse: collapse;\n",
       "  }\n",
       "  th, td {\n",
       "    padding: 5px;\n",
       "  }\n",
       "  th {\n",
       "    text-align: left;\n",
       "  }\n",
       "</style><div class='table-result-container'><table class='table-result'><thead style='background-color: white'><tr><th>key</th><th>value</th></tr></thead><tbody><tr><td>James</td><td>{\"name\":\"James\",\"occupation\":\"driver\"}</td></tr><tr><td>Michael</td><td>{\"name\":\"Michael\",\"occupation\":\"teacher\"}</td></tr><tr><td>Robert</td><td>{\"name\":\"Robert\",\"occupation\":\"engineer\"}</td></tr><tr><td>Washington</td><td>{\"name\":\"Washington\",\"occupation\":\"architect\"}</td></tr><tr><td>Jefferson</td><td>{\"name\":\"Jefferson\",\"occupation\":\"CEO\"}</td></tr></tbody></table></div>"
      ]
     },
     "metadata": {
      "application/vnd.databricks.v1+output": {
       "addedWidgets": {},
       "aggData": [],
       "aggError": "",
       "aggOverflow": false,
       "aggSchema": [],
       "aggSeriesLimitReached": false,
       "aggType": "",
       "arguments": {},
       "columnCustomDisplayInfos": {},
       "data": [
        [
         "James",
         "{\"name\":\"James\",\"occupation\":\"driver\"}"
        ],
        [
         "Michael",
         "{\"name\":\"Michael\",\"occupation\":\"teacher\"}"
        ],
        [
         "Robert",
         "{\"name\":\"Robert\",\"occupation\":\"engineer\"}"
        ],
        [
         "Washington",
         "{\"name\":\"Washington\",\"occupation\":\"architect\"}"
        ],
        [
         "Jefferson",
         "{\"name\":\"Jefferson\",\"occupation\":\"CEO\"}"
        ]
       ],
       "datasetInfos": [],
       "dbfsResultPath": null,
       "isJsonSchema": true,
       "metadata": {},
       "overflow": false,
       "plotOptions": {
        "customPlotOptions": {},
        "displayType": "table",
        "pivotAggregation": null,
        "pivotColumns": null,
        "xColumns": null,
        "yColumns": null
       },
       "removedWidgets": [],
       "schema": [
        {
         "metadata": "{}",
         "name": "key",
         "type": "\"string\""
        },
        {
         "metadata": "{}",
         "name": "value",
         "type": "\"string\""
        }
       ],
       "type": "table"
      }
     },
     "output_type": "display_data"
    }
   ],
   "source": [
    "#display input data\n",
    "df2 = df.selectExpr(\"name AS key\", \"to_json(struct(*)) AS value\")\n",
    "display(df2)\n"
   ]
  },
  {
   "cell_type": "code",
   "execution_count": 0,
   "metadata": {
    "application/vnd.databricks.v1+cell": {
     "cellMetadata": {
      "byteLimit": 2048000,
      "rowLimit": 10000
     },
     "inputWidgets": {},
     "nuid": "9035492f-b740-4b8d-85c0-5a68d222c72a",
     "showTitle": false,
     "title": ""
    }
   },
   "outputs": [],
   "source": [
    "#write to topic\n",
    "# bootstrap servers: is we need to keep our cluster server id\n",
    "#username : we need to keep our cluster key username\n",
    "#password: we need to keep our cluster key password\n",
    "(df.selectExpr(\"name AS key\", \"to_json(struct(*)) AS value\") \\\n",
    "  .write \\\n",
    "  .format(\"kafka\") \\\n",
    "  .option(\"kafka.bootstrap.servers\", \"pkc-12576z.us-west2.gcp.confluent.cloud:9092\") \\\n",
    "  .option(\"topic\", \"Basic_0\") \\\n",
    "  .option(\"kafka.security.protocol\",\"SASL_SSL\") \\\n",
    "  .option(\"kafka.sasl.mechanism\", \"PLAIN\") \\\n",
    "  .option(\"kafka.sasl.jaas.config\", \"\"\"kafkashaded.org.apache.kafka.common.security.plain.PlainLoginModule required username=\"NJHYJFIAU2PR7ITR\" password=\"Z+zNfpN/lo6I670vhizqXNgY8qemwsXc7fKmxLXb4PxkrUIUriDvJe9+E32vtFG1\";\"\"\") \\\n",
    "  .save()\n",
    ")\n"
   ]
  },
  {
   "cell_type": "code",
   "execution_count": 0,
   "metadata": {
    "application/vnd.databricks.v1+cell": {
     "cellMetadata": {
      "byteLimit": 2048000,
      "rowLimit": 10000
     },
     "inputWidgets": {},
     "nuid": "dd31ea88-905d-44fc-97d1-1660a0ec6bcd",
     "showTitle": false,
     "title": ""
    }
   },
   "outputs": [
    {
     "output_type": "display_data",
     "data": {
      "text/html": [
       "<style scoped>\n",
       "  .table-result-container {\n",
       "    max-height: 300px;\n",
       "    overflow: auto;\n",
       "  }\n",
       "  table, th, td {\n",
       "    border: 1px solid black;\n",
       "    border-collapse: collapse;\n",
       "  }\n",
       "  th, td {\n",
       "    padding: 5px;\n",
       "  }\n",
       "  th {\n",
       "    text-align: left;\n",
       "  }\n",
       "</style><div class='table-result-container'><table class='table-result'><thead style='background-color: white'><tr><th>key</th><th>value</th><th>topic</th><th>partition</th><th>offset</th><th>timestamp</th><th>timestampType</th></tr></thead><tbody><tr><td>SmVmZmVyc29u</td><td>eyJuYW1lIjoiSmVmZmVyc29uIiwib2NjdXBhdGlvbiI6IkNFTyJ9</td><td>Basic_0</td><td>4</td><td>0</td><td>2024-07-14T23:47:25.652+0000</td><td>0</td></tr><tr><td>SmVmZmVyc29u</td><td>eyJuYW1lIjoiSmVmZmVyc29uIiwib2NjdXBhdGlvbiI6IkNFTyJ9</td><td>Basic_0</td><td>4</td><td>1</td><td>2024-07-14T23:48:07.764+0000</td><td>0</td></tr><tr><td>TWljaGFlbA==</td><td>eyJuYW1lIjoiTWljaGFlbCIsIm9jY3VwYXRpb24iOiJ0ZWFjaGVyIn0=</td><td>Basic_0</td><td>1</td><td>0</td><td>2024-07-14T23:47:25.652+0000</td><td>0</td></tr><tr><td>TWljaGFlbA==</td><td>eyJuYW1lIjoiTWljaGFlbCIsIm9jY3VwYXRpb24iOiJ0ZWFjaGVyIn0=</td><td>Basic_0</td><td>1</td><td>1</td><td>2024-07-14T23:48:07.868+0000</td><td>0</td></tr><tr><td>SmFtZXM=</td><td>eyJuYW1lIjoiSmFtZXMiLCJvY2N1cGF0aW9uIjoiZHJpdmVyIn0=</td><td>Basic_0</td><td>0</td><td>0</td><td>2024-07-14T23:47:25.655+0000</td><td>0</td></tr><tr><td>V2FzaGluZ3Rvbg==</td><td>eyJuYW1lIjoiV2FzaGluZ3RvbiIsIm9jY3VwYXRpb24iOiJhcmNoaXRlY3QifQ==</td><td>Basic_0</td><td>0</td><td>1</td><td>2024-07-14T23:47:25.655+0000</td><td>0</td></tr><tr><td>Um9iZXJ0</td><td>eyJuYW1lIjoiUm9iZXJ0Iiwib2NjdXBhdGlvbiI6ImVuZ2luZWVyIn0=</td><td>Basic_0</td><td>0</td><td>2</td><td>2024-07-14T23:47:25.656+0000</td><td>0</td></tr><tr><td>V2FzaGluZ3Rvbg==</td><td>eyJuYW1lIjoiV2FzaGluZ3RvbiIsIm9jY3VwYXRpb24iOiJhcmNoaXRlY3QifQ==</td><td>Basic_0</td><td>0</td><td>3</td><td>2024-07-14T23:48:07.681+0000</td><td>0</td></tr><tr><td>SmFtZXM=</td><td>eyJuYW1lIjoiSmFtZXMiLCJvY2N1cGF0aW9uIjoiZHJpdmVyIn0=</td><td>Basic_0</td><td>0</td><td>4</td><td>2024-07-14T23:48:07.768+0000</td><td>0</td></tr><tr><td>Um9iZXJ0</td><td>eyJuYW1lIjoiUm9iZXJ0Iiwib2NjdXBhdGlvbiI6ImVuZ2luZWVyIn0=</td><td>Basic_0</td><td>0</td><td>5</td><td>2024-07-14T23:48:07.789+0000</td><td>0</td></tr></tbody></table></div>"
      ]
     },
     "metadata": {
      "application/vnd.databricks.v1+output": {
       "addedWidgets": {},
       "aggData": [],
       "aggError": "",
       "aggOverflow": false,
       "aggSchema": [],
       "aggSeriesLimitReached": false,
       "aggType": "",
       "arguments": {},
       "columnCustomDisplayInfos": {},
       "data": [
        [
         "SmVmZmVyc29u",
         "eyJuYW1lIjoiSmVmZmVyc29uIiwib2NjdXBhdGlvbiI6IkNFTyJ9",
         "Basic_0",
         4,
         0,
         "2024-07-14T23:47:25.652+0000",
         0
        ],
        [
         "SmVmZmVyc29u",
         "eyJuYW1lIjoiSmVmZmVyc29uIiwib2NjdXBhdGlvbiI6IkNFTyJ9",
         "Basic_0",
         4,
         1,
         "2024-07-14T23:48:07.764+0000",
         0
        ],
        [
         "TWljaGFlbA==",
         "eyJuYW1lIjoiTWljaGFlbCIsIm9jY3VwYXRpb24iOiJ0ZWFjaGVyIn0=",
         "Basic_0",
         1,
         0,
         "2024-07-14T23:47:25.652+0000",
         0
        ],
        [
         "TWljaGFlbA==",
         "eyJuYW1lIjoiTWljaGFlbCIsIm9jY3VwYXRpb24iOiJ0ZWFjaGVyIn0=",
         "Basic_0",
         1,
         1,
         "2024-07-14T23:48:07.868+0000",
         0
        ],
        [
         "SmFtZXM=",
         "eyJuYW1lIjoiSmFtZXMiLCJvY2N1cGF0aW9uIjoiZHJpdmVyIn0=",
         "Basic_0",
         0,
         0,
         "2024-07-14T23:47:25.655+0000",
         0
        ],
        [
         "V2FzaGluZ3Rvbg==",
         "eyJuYW1lIjoiV2FzaGluZ3RvbiIsIm9jY3VwYXRpb24iOiJhcmNoaXRlY3QifQ==",
         "Basic_0",
         0,
         1,
         "2024-07-14T23:47:25.655+0000",
         0
        ],
        [
         "Um9iZXJ0",
         "eyJuYW1lIjoiUm9iZXJ0Iiwib2NjdXBhdGlvbiI6ImVuZ2luZWVyIn0=",
         "Basic_0",
         0,
         2,
         "2024-07-14T23:47:25.656+0000",
         0
        ],
        [
         "V2FzaGluZ3Rvbg==",
         "eyJuYW1lIjoiV2FzaGluZ3RvbiIsIm9jY3VwYXRpb24iOiJhcmNoaXRlY3QifQ==",
         "Basic_0",
         0,
         3,
         "2024-07-14T23:48:07.681+0000",
         0
        ],
        [
         "SmFtZXM=",
         "eyJuYW1lIjoiSmFtZXMiLCJvY2N1cGF0aW9uIjoiZHJpdmVyIn0=",
         "Basic_0",
         0,
         4,
         "2024-07-14T23:48:07.768+0000",
         0
        ],
        [
         "Um9iZXJ0",
         "eyJuYW1lIjoiUm9iZXJ0Iiwib2NjdXBhdGlvbiI6ImVuZ2luZWVyIn0=",
         "Basic_0",
         0,
         5,
         "2024-07-14T23:48:07.789+0000",
         0
        ]
       ],
       "datasetInfos": [],
       "dbfsResultPath": null,
       "isJsonSchema": true,
       "metadata": {},
       "overflow": false,
       "plotOptions": {
        "customPlotOptions": {},
        "displayType": "table",
        "pivotAggregation": null,
        "pivotColumns": null,
        "xColumns": null,
        "yColumns": null
       },
       "removedWidgets": [],
       "schema": [
        {
         "metadata": "{}",
         "name": "key",
         "type": "\"binary\""
        },
        {
         "metadata": "{}",
         "name": "value",
         "type": "\"binary\""
        },
        {
         "metadata": "{}",
         "name": "topic",
         "type": "\"string\""
        },
        {
         "metadata": "{}",
         "name": "partition",
         "type": "\"integer\""
        },
        {
         "metadata": "{}",
         "name": "offset",
         "type": "\"long\""
        },
        {
         "metadata": "{}",
         "name": "timestamp",
         "type": "\"timestamp\""
        },
        {
         "metadata": "{}",
         "name": "timestampType",
         "type": "\"integer\""
        }
       ],
       "type": "table"
      }
     },
     "output_type": "display_data"
    }
   ],
   "source": [
    "#read from topic\n",
    "# bootstrap servers: is we need to keep our cluster server id\n",
    "#username : we need to keep our cluster key username\n",
    "#password: we need to keep our cluster key password\n",
    "dfread = spark \\\n",
    "      .read \\\n",
    "      .format(\"kafka\") \\\n",
    "      .option(\"kafka.bootstrap.servers\", \"pkc-12576z.us-west2.gcp.confluent.cloud:9092\") \\\n",
    "      .option(\"subscribe\", \"Basic_0\") \\\n",
    "      .option(\"startingOffsets\", \"earliest\") \\\n",
    "      .option(\"endingOffsets\", \"latest\")  \\\n",
    "      .option(\"kafka.security.protocol\",\"SASL_SSL\") \\\n",
    "      .option(\"kafka.sasl.mechanism\", \"PLAIN\") \\\n",
    "      .option(\"kafka.sasl.jaas.config\", \"\"\"kafkashaded.org.apache.kafka.common.security.plain.PlainLoginModule required username=\"NJHYJFIAU2PR7ITR\" password=\"Z+zNfpN/lo6I670vhizqXNgY8qemwsXc7fKmxLXb4PxkrUIUriDvJe9+E32vtFG1\";\"\"\") \\\n",
    "      .load()\n",
    "display(dfread)"
   ]
  },
  {
   "cell_type": "code",
   "execution_count": 0,
   "metadata": {
    "application/vnd.databricks.v1+cell": {
     "cellMetadata": {
      "byteLimit": 2048000,
      "rowLimit": 10000
     },
     "inputWidgets": {},
     "nuid": "0999904d-4853-45a7-8937-044a2950d597",
     "showTitle": false,
     "title": ""
    }
   },
   "outputs": [],
   "source": [
    "json_schema = StructType(\n",
    "    [   StructField(\"name\", StringType(), True),\n",
    "        StructField(\"occupation\", StringType(), True)\n",
    "    ]\n",
    ")\n"
   ]
  },
  {
   "cell_type": "code",
   "execution_count": 0,
   "metadata": {
    "application/vnd.databricks.v1+cell": {
     "cellMetadata": {
      "byteLimit": 2048000,
      "rowLimit": 10000
     },
     "inputWidgets": {},
     "nuid": "aacdb91b-87c0-47d0-8bc5-ffcea3a75d33",
     "showTitle": false,
     "title": ""
    }
   },
   "outputs": [
    {
     "output_type": "display_data",
     "data": {
      "text/html": [
       "<style scoped>\n",
       "  .table-result-container {\n",
       "    max-height: 300px;\n",
       "    overflow: auto;\n",
       "  }\n",
       "  table, th, td {\n",
       "    border: 1px solid black;\n",
       "    border-collapse: collapse;\n",
       "  }\n",
       "  th, td {\n",
       "    padding: 5px;\n",
       "  }\n",
       "  th {\n",
       "    text-align: left;\n",
       "  }\n",
       "</style><div class='table-result-container'><table class='table-result'><thead style='background-color: white'><tr><th>name</th><th>occupation</th></tr></thead><tbody><tr><td>Jefferson</td><td>CEO</td></tr><tr><td>Jefferson</td><td>CEO</td></tr><tr><td>Michael</td><td>teacher</td></tr><tr><td>Michael</td><td>teacher</td></tr><tr><td>James</td><td>driver</td></tr><tr><td>Washington</td><td>architect</td></tr><tr><td>Robert</td><td>engineer</td></tr><tr><td>Washington</td><td>architect</td></tr><tr><td>James</td><td>driver</td></tr><tr><td>Robert</td><td>engineer</td></tr></tbody></table></div>"
      ]
     },
     "metadata": {
      "application/vnd.databricks.v1+output": {
       "addedWidgets": {},
       "aggData": [],
       "aggError": "",
       "aggOverflow": false,
       "aggSchema": [],
       "aggSeriesLimitReached": false,
       "aggType": "",
       "arguments": {},
       "columnCustomDisplayInfos": {},
       "data": [
        [
         "Jefferson",
         "CEO"
        ],
        [
         "Jefferson",
         "CEO"
        ],
        [
         "Michael",
         "teacher"
        ],
        [
         "Michael",
         "teacher"
        ],
        [
         "James",
         "driver"
        ],
        [
         "Washington",
         "architect"
        ],
        [
         "Robert",
         "engineer"
        ],
        [
         "Washington",
         "architect"
        ],
        [
         "James",
         "driver"
        ],
        [
         "Robert",
         "engineer"
        ]
       ],
       "datasetInfos": [],
       "dbfsResultPath": null,
       "isJsonSchema": true,
       "metadata": {},
       "overflow": false,
       "plotOptions": {
        "customPlotOptions": {},
        "displayType": "table",
        "pivotAggregation": null,
        "pivotColumns": null,
        "xColumns": null,
        "yColumns": null
       },
       "removedWidgets": [],
       "schema": [
        {
         "metadata": "{}",
         "name": "name",
         "type": "\"string\""
        },
        {
         "metadata": "{}",
         "name": "occupation",
         "type": "\"string\""
        }
       ],
       "type": "table"
      }
     },
     "output_type": "display_data"
    }
   ],
   "source": [
    "#display data from topic\n",
    "df3 = dfread.withColumn('value', F.from_json(F.col('value').cast('string'), json_schema))  \\\n",
    "      .select(F.col(\"value.name\"),F.col(\"value.occupation\")) \n",
    "display(df3)"
   ]
  },
  {
   "cell_type": "code",
   "execution_count": 0,
   "metadata": {
    "application/vnd.databricks.v1+cell": {
     "cellMetadata": {},
     "inputWidgets": {},
     "nuid": "7cd65ab9-b3d9-4a2c-9df1-f07709578026",
     "showTitle": false,
     "title": ""
    }
   },
   "outputs": [],
   "source": []
  }
 ],
 "metadata": {
  "application/vnd.databricks.v1+notebook": {
   "dashboards": [],
   "environmentMetadata": null,
   "language": "python",
   "notebookMetadata": {
    "pythonIndentUnit": 4
   },
   "notebookName": "Kafka_to_DataBricks   Batch_processing",
   "widgets": {}
  }
 },
 "nbformat": 4,
 "nbformat_minor": 0
}
